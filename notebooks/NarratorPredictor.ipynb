{
  "nbformat": 4,
  "nbformat_minor": 0,
  "metadata": {
    "colab": {
      "name": "NarratorPredictor.ipynb",
      "provenance": [],
      "collapsed_sections": []
    },
    "kernelspec": {
      "name": "python3",
      "display_name": "Python 3"
    }
  },
  "cells": [
    {
      "cell_type": "code",
      "metadata": {
        "id": "_FAyH2j8Bllr",
        "colab_type": "code",
        "colab": {}
      },
      "source": [
        "!pip install pyarabic"
      ],
      "execution_count": 0,
      "outputs": []
    },
    {
      "cell_type": "code",
      "metadata": {
        "id": "mK86c-1VtA8l",
        "colab_type": "code",
        "colab": {}
      },
      "source": [
        "! rm -R /content/Hadith-Segmentation-Using-Ngrams/\n",
        "!git clone https://github.com/AhmadM-DL/Hadith-Segmentation-Using-Ngrams.git"
      ],
      "execution_count": 0,
      "outputs": []
    },
    {
      "cell_type": "code",
      "metadata": {
        "id": "q3uSttWgpxSG",
        "colab_type": "code",
        "colab": {}
      },
      "source": [
        "import sys\n",
        "import importlib"
      ],
      "execution_count": 0,
      "outputs": []
    },
    {
      "cell_type": "code",
      "metadata": {
        "id": "L_GSQ7cEq24l",
        "colab_type": "code",
        "colab": {}
      },
      "source": [
        "sys.path.append('/content/Hadith-Segmentation-Using-Ngrams/')"
      ],
      "execution_count": 0,
      "outputs": []
    },
    {
      "cell_type": "code",
      "metadata": {
        "id": "xMeOuvQYs7ZG",
        "colab_type": "code",
        "colab": {}
      },
      "source": [
        "import hadith_ngram_lists_validator as validator\n",
        "import sanad_maten_ngrams_extractor as extractor\n",
        "import sunnah_com_books_extractor as book_extractor\n",
        "import hadith_predictor as predictor\n",
        "\n",
        "importlib.reload(book_extractor)\n",
        "importlib.reload(extractor)\n",
        "importlib.reload(validator)\n",
        "importlib.reload(predictor)"
      ],
      "execution_count": 0,
      "outputs": []
    },
    {
      "cell_type": "code",
      "metadata": {
        "id": "iUFLv5reDKLo",
        "colab_type": "code",
        "colab": {}
      },
      "source": [
        "from google.colab import drive\n",
        "drive.mount('/content/drive')"
      ],
      "execution_count": 0,
      "outputs": []
    },
    {
      "cell_type": "markdown",
      "metadata": {
        "id": "rKLeAE9zpz6s",
        "colab_type": "text"
      },
      "source": [
        "#### Predict Hadith"
      ]
    },
    {
      "cell_type": "code",
      "metadata": {
        "id": "Ks1yboYHql5z",
        "colab_type": "code",
        "colab": {}
      },
      "source": [
        "hadith = 'حَدَّثَنَا أَبُو مَعْمَرٍ، قَالَ حَدَّثَنَا عَبْدُ الْوَارِثِ، عَنْ عَبْدِ الْعَزِيزِ، قَالَ أَنَسٌ إِنَّهُ لَيَمْنَعُنِي أَنْ أُحَدِّثَكُمْ حَدِيثًا كَثِيرًا أَنَّ النَّبِيَّ صلى الله عليه وسلم قَالَ ‏ \"‏ مَنْ تَعَمَّدَ عَلَىَّ كَذِبًا فَلْيَتَبَوَّأْ مَقْعَدَهُ مِنَ النَّارِ ‏\"'"
      ],
      "execution_count": 0,
      "outputs": []
    },
    {
      "cell_type": "code",
      "metadata": {
        "id": "l3o_7deXp6GK",
        "colab_type": "code",
        "outputId": "3bd31cf0-ad97-4570-f624-dd1f08b914d8",
        "colab": {
          "base_uri": "https://localhost:8080/",
          "height": 54
        }
      },
      "source": [
        "pos, word = predictor.segment_hadith(hadith, \"/content/drive/My Drive/Colab Notebooks/NLP/ex17/sanad_bigrams.npy\",\n",
        "                                     \"/content/drive/My Drive/Colab Notebooks/NLP/ex17/sanad_unigrams.npy\",\n",
        "                                     \"/content/drive/My Drive/Colab Notebooks/NLP/ex17/maten_bigrams.npy\",\n",
        "                                     \"/content/drive/My Drive/Colab Notebooks/NLP/ex17/maten_unigrams.npy\",\n",
        "                                     predictor.PREDICTOR_BASELINE)\n",
        "predictor.print_annotated_hadith(hadith, pos)"
      ],
      "execution_count": 0,
      "outputs": [
        {
          "output_type": "stream",
          "text": [
            "\u001b[31mحدثنا\u001b[0m \u001b[31mأبو\u001b[0m \u001b[31mمعمر\u001b[0m \u001b[31mقال\u001b[0m \u001b[31mحدثنا\u001b[0m \u001b[31mعبد\u001b[0m \u001b[31mالوارث\u001b[0m \u001b[31mعن\u001b[0m \u001b[31mعبد\u001b[0m \u001b[31mالعزيز\u001b[0m \u001b[31mقال\u001b[0m \u001b[31mأنس\u001b[0m \u001b[31mإنه\u001b[0m \u001b[34mليمنعني\u001b[0m \u001b[34mأن\u001b[0m \u001b[34mأحدثكم\u001b[0m \u001b[34mحديثا\u001b[0m \u001b[34mكثيرا\u001b[0m \u001b[34mأن\u001b[0m \u001b[34mالنبي\u001b[0m \u001b[34mصلى\u001b[0m \u001b[34mالله\u001b[0m \u001b[34mعليه\u001b[0m \u001b[34mوسلم\u001b[0m \u001b[34mقال\u001b[0m \u001b[34m‏\u001b[0m \u001b[34m‏\u001b[0m \u001b[34mمن\u001b[0m \u001b[34mتعمد\u001b[0m \u001b[34mعلى\u001b[0m \u001b[34mكذبا\u001b[0m \u001b[34mفليتبوأ\u001b[0m \u001b[34mمقعده\u001b[0m \u001b[34mمن\u001b[0m \u001b[34mالنار\u001b[0m \u001b[34m‏\u001b[0m "
          ],
          "name": "stdout"
        }
      ]
    },
    {
      "cell_type": "code",
      "metadata": {
        "id": "U9lOJ61dFmTg",
        "colab_type": "code",
        "outputId": "f1f4a52f-bcc7-48d5-f16a-ce4974d43e0e",
        "colab": {
          "base_uri": "https://localhost:8080/",
          "height": 54
        }
      },
      "source": [
        "pos, word = predictor.segment_hadith(hadith, \"/content/drive/My Drive/Colab Notebooks/NLP/ex17/sanad_bigrams.npy\",\n",
        "                                     \"/content/drive/My Drive/Colab Notebooks/NLP/ex17/sanad_unigrams.npy\",\n",
        "                                     \"/content/drive/My Drive/Colab Notebooks/NLP/ex17/maten_bigrams.npy\",\n",
        "                                     \"/content/drive/My Drive/Colab Notebooks/NLP/ex17/maten_unigrams.npy\",\n",
        "                                     predictor.PREDICTOR_INFORMATION_GAIN)\n",
        "predictor.print_annotated_hadith(hadith, pos)"
      ],
      "execution_count": 0,
      "outputs": [
        {
          "output_type": "stream",
          "text": [
            "\u001b[31mحدثنا\u001b[0m \u001b[31mأبو\u001b[0m \u001b[31mمعمر\u001b[0m \u001b[31mقال\u001b[0m \u001b[31mحدثنا\u001b[0m \u001b[31mعبد\u001b[0m \u001b[31mالوارث\u001b[0m \u001b[31mعن\u001b[0m \u001b[31mعبد\u001b[0m \u001b[31mالعزيز\u001b[0m \u001b[31mقال\u001b[0m \u001b[31mأنس\u001b[0m \u001b[31mإنه\u001b[0m \u001b[31mليمنعني\u001b[0m \u001b[31mأن\u001b[0m \u001b[31mأحدثكم\u001b[0m \u001b[31mحديثا\u001b[0m \u001b[31mكثيرا\u001b[0m \u001b[31mأن\u001b[0m \u001b[31mالنبي\u001b[0m \u001b[31mصلى\u001b[0m \u001b[31mالله\u001b[0m \u001b[31mعليه\u001b[0m \u001b[31mوسلم\u001b[0m \u001b[31mقال\u001b[0m \u001b[31m‏\u001b[0m \u001b[31m‏\u001b[0m \u001b[34mمن\u001b[0m \u001b[34mتعمد\u001b[0m \u001b[34mعلى\u001b[0m \u001b[34mكذبا\u001b[0m \u001b[34mفليتبوأ\u001b[0m \u001b[34mمقعده\u001b[0m \u001b[34mمن\u001b[0m \u001b[34mالنار\u001b[0m \u001b[34m‏\u001b[0m "
          ],
          "name": "stdout"
        }
      ]
    }
  ]
}