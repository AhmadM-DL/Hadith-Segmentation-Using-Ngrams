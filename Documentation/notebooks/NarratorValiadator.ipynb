{
  "nbformat": 4,
  "nbformat_minor": 0,
  "metadata": {
    "colab": {
      "name": "NarratorValiadator.ipynb",
      "provenance": []
    },
    "kernelspec": {
      "name": "python3",
      "display_name": "Python 3"
    }
  },
  "cells": [
    {
      "cell_type": "code",
      "metadata": {
        "id": "4ktblUSHqi3t",
        "colab_type": "code",
        "colab": {}
      },
      "source": [
        "!pip install pyarabic"
      ],
      "execution_count": 0,
      "outputs": []
    },
    {
      "cell_type": "code",
      "metadata": {
        "id": "yPMNMs4us4cy",
        "colab_type": "code",
        "colab": {}
      },
      "source": [
        "import sys\n",
        "import importlib\n",
        "import numpy as np "
      ],
      "execution_count": 0,
      "outputs": []
    },
    {
      "cell_type": "code",
      "metadata": {
        "id": "mK86c-1VtA8l",
        "colab_type": "code",
        "colab": {}
      },
      "source": [
        "! rm -R /content/Hadith-Segmentation-Using-Ngrams/\n",
        "!git clone https://github.com/AhmadM-DL/Hadith-Segmentation-Using-Ngrams.git"
      ],
      "execution_count": 0,
      "outputs": []
    },
    {
      "cell_type": "code",
      "metadata": {
        "id": "L_GSQ7cEq24l",
        "colab_type": "code",
        "colab": {}
      },
      "source": [
        "sys.path.append('/content/Hadith-Segmentation-Using-Ngrams/')"
      ],
      "execution_count": 0,
      "outputs": []
    },
    {
      "cell_type": "code",
      "metadata": {
        "id": "xMeOuvQYs7ZG",
        "colab_type": "code",
        "colab": {}
      },
      "source": [
        "import hadith_ngram_lists_validator as validator\n",
        "importlib.reload(validator)"
      ],
      "execution_count": 0,
      "outputs": []
    },
    {
      "cell_type": "code",
      "metadata": {
        "id": "s1fbHAkz-X_n",
        "colab_type": "code",
        "colab": {}
      },
      "source": [
        "from google.colab import drive\n",
        "drive.mount('/content/drive')"
      ],
      "execution_count": 0,
      "outputs": []
    },
    {
      "cell_type": "markdown",
      "metadata": {
        "id": "AizuCwoJtKm-",
        "colab_type": "text"
      },
      "source": [
        "### Get Precompiled Sanad/Maten Ngrams Files"
      ]
    },
    {
      "cell_type": "code",
      "metadata": {
        "id": "TIL-ErqmaRYH",
        "colab_type": "code",
        "colab": {}
      },
      "source": [
        "#np.random.seed(1234)\n",
        "#np.random.seed(33)"
      ],
      "execution_count": 0,
      "outputs": []
    },
    {
      "cell_type": "markdown",
      "metadata": {
        "id": "f4TMULDVyLFn",
        "colab_type": "text"
      },
      "source": [
        "#####EX1"
      ]
    },
    {
      "cell_type": "code",
      "metadata": {
        "id": "PUJsBCh5YZgr",
        "colab_type": "code",
        "colab": {}
      },
      "source": [
        "root_dir = \"/content/drive/My Drive/Colab Notebooks/NLP/ex1/\"\n",
        "sanad_bigrams_path = root_dir+\"sanad_bigrams.npy\"\n",
        "sanad_unigrams_path = root_dir+\"sanad_unigrams.npy\"\n",
        "maten_bigrams_path = root_dir+\"maten_bigrams.npy\"\n",
        "maten_unigrams_path = root_dir+\"maten_unigrams.npy\"\n",
        "test_set_path = root_dir+\"test_set.npy\"\n",
        "output_path = root_dir\n",
        "validator.validate_sanad_maten_lists(sanad_bigrams_path, sanad_unigrams_path,\n",
        "                                     maten_bigrams_path, maten_unigrams_path,\n",
        "                                     test_set_path, split_predictor = validator.predictor.PREDICTOR_BASELINE,\n",
        "                                     output_path=output_path, verbose=0,\n",
        "                                     )"
      ],
      "execution_count": 0,
      "outputs": []
    },
    {
      "cell_type": "code",
      "metadata": {
        "colab_type": "code",
        "id": "wNCyvzm2ZIFl",
        "colab": {}
      },
      "source": [
        "root_dir = \"/content/drive/My Drive/Colab Notebooks/NLP/ex1/\"\n",
        "sanad_bigrams_path = root_dir+\"sanad_bigrams.npy\"\n",
        "sanad_unigrams_path = root_dir+\"sanad_unigrams.npy\"\n",
        "maten_bigrams_path = root_dir+\"maten_bigrams.npy\"\n",
        "maten_unigrams_path = root_dir+\"maten_unigrams.npy\"\n",
        "test_set_path = root_dir+\"test_set.npy\"\n",
        "output_path = root_dir\n",
        "validator.validate_sanad_maten_lists(sanad_bigrams_path, sanad_unigrams_path,\n",
        "                                     maten_bigrams_path, maten_unigrams_path,\n",
        "                                     test_set_path, split_predictor = validator.predictor.PREDICTOR_INFORMATION_GAIN,\n",
        "                                     output_path=output_path,verbose=0,\n",
        "                                     )"
      ],
      "execution_count": 0,
      "outputs": []
    },
    {
      "cell_type": "markdown",
      "metadata": {
        "colab_type": "text",
        "id": "mewct9WAyO7f"
      },
      "source": [
        "#####EX2"
      ]
    },
    {
      "cell_type": "code",
      "metadata": {
        "colab_type": "code",
        "id": "8674phf1ZIfi",
        "colab": {}
      },
      "source": [
        "root_dir = \"/content/drive/My Drive/Colab Notebooks/NLP/ex2/\"\n",
        "sanad_bigrams_path = root_dir+\"sanad_bigrams.npy\"\n",
        "sanad_unigrams_path = root_dir+\"sanad_unigrams.npy\"\n",
        "maten_bigrams_path = root_dir+\"maten_bigrams.npy\"\n",
        "maten_unigrams_path = root_dir+\"maten_unigrams.npy\"\n",
        "test_set_path = root_dir+\"test_set.npy\"\n",
        "output_path = root_dir\n",
        "validator.validate_sanad_maten_lists(sanad_bigrams_path, sanad_unigrams_path,\n",
        "                                     maten_bigrams_path, maten_unigrams_path,\n",
        "                                     test_set_path, split_predictor = validator.predictor.PREDICTOR_BASELINE,\n",
        "                                     output_path=output_path,verbose=0,\n",
        "                                     )"
      ],
      "execution_count": 0,
      "outputs": []
    },
    {
      "cell_type": "code",
      "metadata": {
        "colab_type": "code",
        "id": "SZtEaAx-ZIpy",
        "colab": {}
      },
      "source": [
        "root_dir = \"/content/drive/My Drive/Colab Notebooks/NLP/ex2/\"\n",
        "sanad_bigrams_path = root_dir+\"sanad_bigrams.npy\"\n",
        "sanad_unigrams_path = root_dir+\"sanad_unigrams.npy\"\n",
        "maten_bigrams_path = root_dir+\"maten_bigrams.npy\"\n",
        "maten_unigrams_path = root_dir+\"maten_unigrams.npy\"\n",
        "test_set_path = root_dir+\"test_set.npy\"\n",
        "output_path = root_dir\n",
        "validator.validate_sanad_maten_lists(sanad_bigrams_path, sanad_unigrams_path,\n",
        "                                     maten_bigrams_path, maten_unigrams_path,\n",
        "                                     test_set_path, split_predictor = validator.predictor.PREDICTOR_INFORMATION_GAIN,\n",
        "                                     output_path=output_path,verbose=0,\n",
        "                                     )"
      ],
      "execution_count": 0,
      "outputs": []
    },
    {
      "cell_type": "markdown",
      "metadata": {
        "colab_type": "text",
        "id": "mkK8PNR9yQs2"
      },
      "source": [
        "#####EX3"
      ]
    },
    {
      "cell_type": "code",
      "metadata": {
        "colab_type": "code",
        "id": "yEwHXP09ZI-a",
        "colab": {}
      },
      "source": [
        "root_dir = \"/content/drive/My Drive/Colab Notebooks/NLP/ex3/\"\n",
        "sanad_bigrams_path = root_dir+\"sanad_bigrams.npy\"\n",
        "sanad_unigrams_path = root_dir+\"sanad_unigrams.npy\"\n",
        "maten_bigrams_path = root_dir+\"maten_bigrams.npy\"\n",
        "maten_unigrams_path = root_dir+\"maten_unigrams.npy\"\n",
        "test_set_path = root_dir+\"test_set.npy\"\n",
        "output_path = root_dir\n",
        "validator.validate_sanad_maten_lists(sanad_bigrams_path, sanad_unigrams_path,\n",
        "                                     maten_bigrams_path, maten_unigrams_path,\n",
        "                                     test_set_path, split_predictor = validator.predictor.PREDICTOR_BASELINE,\n",
        "                                     output_path=output_path,verbose=0,\n",
        "                                     )"
      ],
      "execution_count": 0,
      "outputs": []
    },
    {
      "cell_type": "code",
      "metadata": {
        "colab_type": "code",
        "id": "MadqbeP5ZJHK",
        "colab": {}
      },
      "source": [
        "root_dir = \"/content/drive/My Drive/Colab Notebooks/NLP/ex3/\"\n",
        "sanad_bigrams_path = root_dir+\"sanad_bigrams.npy\"\n",
        "sanad_unigrams_path = root_dir+\"sanad_unigrams.npy\"\n",
        "maten_bigrams_path = root_dir+\"maten_bigrams.npy\"\n",
        "maten_unigrams_path = root_dir+\"maten_unigrams.npy\"\n",
        "test_set_path = root_dir+\"test_set.npy\"\n",
        "output_path = root_dir\n",
        "validator.validate_sanad_maten_lists(sanad_bigrams_path, sanad_unigrams_path,\n",
        "                                     maten_bigrams_path, maten_unigrams_path,\n",
        "                                     test_set_path, split_predictor = validator.predictor.PREDICTOR_INFORMATION_GAIN,\n",
        "                                     output_path=output_path,verbose=0,\n",
        "                                     )"
      ],
      "execution_count": 0,
      "outputs": []
    },
    {
      "cell_type": "markdown",
      "metadata": {
        "colab_type": "text",
        "id": "87zAnIdoyU3u"
      },
      "source": [
        "#####EX4"
      ]
    },
    {
      "cell_type": "code",
      "metadata": {
        "colab_type": "code",
        "id": "zhIcgvLiZJcj",
        "colab": {}
      },
      "source": [
        "root_dir = \"/content/drive/My Drive/Colab Notebooks/NLP/ex4/\"\n",
        "sanad_bigrams_path = root_dir+\"sanad_bigrams.npy\"\n",
        "sanad_unigrams_path = root_dir+\"sanad_unigrams.npy\"\n",
        "maten_bigrams_path = root_dir+\"maten_bigrams.npy\"\n",
        "maten_unigrams_path = root_dir+\"maten_unigrams.npy\"\n",
        "test_set_path = root_dir+\"test_set.npy\"\n",
        "output_path = root_dir\n",
        "validator.validate_sanad_maten_lists(sanad_bigrams_path, sanad_unigrams_path,\n",
        "                                     maten_bigrams_path, maten_unigrams_path,\n",
        "                                     test_set_path, split_predictor = validator.predictor.PREDICTOR_BASELINE,\n",
        "                                     output_path=output_path,verbose=0,\n",
        "                                     )"
      ],
      "execution_count": 0,
      "outputs": []
    },
    {
      "cell_type": "code",
      "metadata": {
        "colab_type": "code",
        "id": "W6kfloMhZJlJ",
        "colab": {}
      },
      "source": [
        "root_dir = \"/content/drive/My Drive/Colab Notebooks/NLP/ex4/\"\n",
        "sanad_bigrams_path = root_dir+\"sanad_bigrams.npy\"\n",
        "sanad_unigrams_path = root_dir+\"sanad_unigrams.npy\"\n",
        "maten_bigrams_path = root_dir+\"maten_bigrams.npy\"\n",
        "maten_unigrams_path = root_dir+\"maten_unigrams.npy\"\n",
        "test_set_path = root_dir+\"test_set.npy\"\n",
        "output_path = root_dir\n",
        "validator.validate_sanad_maten_lists(sanad_bigrams_path, sanad_unigrams_path,\n",
        "                                     maten_bigrams_path, maten_unigrams_path,\n",
        "                                     test_set_path, split_predictor = validator.predictor.PREDICTOR_INFORMATION_GAIN,\n",
        "                                     output_path=output_path,verbose=0,\n",
        "                                     )"
      ],
      "execution_count": 0,
      "outputs": []
    },
    {
      "cell_type": "markdown",
      "metadata": {
        "colab_type": "text",
        "id": "aZqHL3xoyW81"
      },
      "source": [
        "#####EX5"
      ]
    },
    {
      "cell_type": "code",
      "metadata": {
        "id": "XD-I2XgbyZgk",
        "colab_type": "code",
        "colab": {}
      },
      "source": [
        "root_dir = \"/content/drive/My Drive/Colab Notebooks/NLP/ex5/\"\n",
        "sanad_bigrams_path = root_dir+\"sanad_bigrams.npy\"\n",
        "sanad_unigrams_path = root_dir+\"sanad_unigrams.npy\"\n",
        "maten_bigrams_path = root_dir+\"maten_bigrams.npy\"\n",
        "maten_unigrams_path = root_dir+\"maten_unigrams.npy\"\n",
        "test_set_path = root_dir+\"test_set.npy\"\n",
        "output_path = root_dir\n",
        "validator.validate_sanad_maten_lists(sanad_bigrams_path, sanad_unigrams_path,\n",
        "                                     maten_bigrams_path, maten_unigrams_path,\n",
        "                                     test_set_path, split_predictor = validator.predictor.PREDICTOR_BASELINE,\n",
        "                                     output_path=output_path,verbose=0,\n",
        "                                     )"
      ],
      "execution_count": 0,
      "outputs": []
    },
    {
      "cell_type": "code",
      "metadata": {
        "id": "wLxOcafryZ5Z",
        "colab_type": "code",
        "colab": {}
      },
      "source": [
        "root_dir = \"/content/drive/My Drive/Colab Notebooks/NLP/ex5/\"\n",
        "sanad_bigrams_path = root_dir+\"sanad_bigrams.npy\"\n",
        "sanad_unigrams_path = root_dir+\"sanad_unigrams.npy\"\n",
        "maten_bigrams_path = root_dir+\"maten_bigrams.npy\"\n",
        "maten_unigrams_path = root_dir+\"maten_unigrams.npy\"\n",
        "test_set_path = root_dir+\"test_set.npy\"\n",
        "output_path = root_dir\n",
        "validator.validate_sanad_maten_lists(sanad_bigrams_path, sanad_unigrams_path,\n",
        "                                     maten_bigrams_path, maten_unigrams_path,\n",
        "                                     test_set_path, split_predictor = validator.predictor.PREDICTOR_INFORMATION_GAIN,\n",
        "                                     output_path=output_path,verbose=0,\n",
        "                                     )"
      ],
      "execution_count": 0,
      "outputs": []
    },
    {
      "cell_type": "markdown",
      "metadata": {
        "colab_type": "text",
        "id": "2kVRx-AZ1bDZ"
      },
      "source": [
        "#####EX6"
      ]
    },
    {
      "cell_type": "code",
      "metadata": {
        "colab_type": "code",
        "id": "NE88yzdg1bDb",
        "colab": {}
      },
      "source": [
        "root_dir = \"/content/drive/My Drive/Colab Notebooks/NLP/ex6/\"\n",
        "sanad_bigrams_path = root_dir+\"sanad_bigrams.npy\"\n",
        "sanad_unigrams_path = root_dir+\"sanad_unigrams.npy\"\n",
        "maten_bigrams_path = root_dir+\"maten_bigrams.npy\"\n",
        "maten_unigrams_path = root_dir+\"maten_unigrams.npy\"\n",
        "test_set_path = root_dir+\"test_set.npy\"\n",
        "output_path = root_dir\n",
        "validator.validate_sanad_maten_lists(sanad_bigrams_path, sanad_unigrams_path,\n",
        "                                     maten_bigrams_path, maten_unigrams_path,\n",
        "                                     test_set_path, split_predictor = validator.predictor.PREDICTOR_BASELINE,\n",
        "                                     output_path=output_path,verbose=0,\n",
        "                                     )"
      ],
      "execution_count": 0,
      "outputs": []
    },
    {
      "cell_type": "code",
      "metadata": {
        "colab_type": "code",
        "id": "tx1iAQAT1bDi",
        "colab": {}
      },
      "source": [
        "root_dir = \"/content/drive/My Drive/Colab Notebooks/NLP/ex6/\"\n",
        "sanad_bigrams_path = root_dir+\"sanad_bigrams.npy\"\n",
        "sanad_unigrams_path = root_dir+\"sanad_unigrams.npy\"\n",
        "maten_bigrams_path = root_dir+\"maten_bigrams.npy\"\n",
        "maten_unigrams_path = root_dir+\"maten_unigrams.npy\"\n",
        "test_set_path = root_dir+\"test_set.npy\"\n",
        "output_path = root_dir\n",
        "validator.validate_sanad_maten_lists(sanad_bigrams_path, sanad_unigrams_path,\n",
        "                                     maten_bigrams_path, maten_unigrams_path,\n",
        "                                     test_set_path, split_predictor = validator.predictor.PREDICTOR_INFORMATION_GAIN,\n",
        "                                     output_path=output_path,verbose=0,\n",
        "                                     )"
      ],
      "execution_count": 0,
      "outputs": []
    },
    {
      "cell_type": "markdown",
      "metadata": {
        "colab_type": "text",
        "id": "AA66CadX5vWG"
      },
      "source": [
        "#####EX7"
      ]
    },
    {
      "cell_type": "code",
      "metadata": {
        "colab_type": "code",
        "id": "WPcCgBM35vWM",
        "colab": {}
      },
      "source": [
        "root_dir = \"/content/drive/My Drive/Colab Notebooks/NLP/ex7/\"\n",
        "sanad_bigrams_path = root_dir+\"sanad_bigrams.npy\"\n",
        "sanad_unigrams_path = root_dir+\"sanad_unigrams.npy\"\n",
        "maten_bigrams_path = root_dir+\"maten_bigrams.npy\"\n",
        "maten_unigrams_path = root_dir+\"maten_unigrams.npy\"\n",
        "test_set_path = root_dir+\"test_set.npy\"\n",
        "output_path = root_dir\n",
        "validator.validate_sanad_maten_lists(sanad_bigrams_path, sanad_unigrams_path,\n",
        "                                     maten_bigrams_path, maten_unigrams_path,\n",
        "                                     test_set_path, split_predictor = validator.predictor.PREDICTOR_BASELINE,\n",
        "                                     output_path=output_path,verbose=0,\n",
        "                                     )"
      ],
      "execution_count": 0,
      "outputs": []
    },
    {
      "cell_type": "code",
      "metadata": {
        "colab_type": "code",
        "id": "a6V24ZVg5vWW",
        "colab": {}
      },
      "source": [
        "root_dir = \"/content/drive/My Drive/Colab Notebooks/NLP/ex7/\"\n",
        "sanad_bigrams_path = root_dir+\"sanad_bigrams.npy\"\n",
        "sanad_unigrams_path = root_dir+\"sanad_unigrams.npy\"\n",
        "maten_bigrams_path = root_dir+\"maten_bigrams.npy\"\n",
        "maten_unigrams_path = root_dir+\"maten_unigrams.npy\"\n",
        "test_set_path = root_dir+\"test_set.npy\"\n",
        "output_path = root_dir\n",
        "validator.validate_sanad_maten_lists(sanad_bigrams_path, sanad_unigrams_path,\n",
        "                                     maten_bigrams_path, maten_unigrams_path,\n",
        "                                     test_set_path, split_predictor = validator.predictor.PREDICTOR_INFORMATION_GAIN,\n",
        "                                     output_path=output_path,verbose=0,\n",
        "                                     )"
      ],
      "execution_count": 0,
      "outputs": []
    },
    {
      "cell_type": "markdown",
      "metadata": {
        "colab_type": "text",
        "id": "YlHhP4Rm7sLe"
      },
      "source": [
        "#####EX8"
      ]
    },
    {
      "cell_type": "code",
      "metadata": {
        "colab_type": "code",
        "id": "m1CJRaOX7sLh",
        "colab": {}
      },
      "source": [
        "root_dir = \"/content/drive/My Drive/Colab Notebooks/NLP/ex8/\"\n",
        "sanad_bigrams_path = root_dir+\"sanad_bigrams.npy\"\n",
        "sanad_unigrams_path = root_dir+\"sanad_unigrams.npy\"\n",
        "maten_bigrams_path = root_dir+\"maten_bigrams.npy\"\n",
        "maten_unigrams_path = root_dir+\"maten_unigrams.npy\"\n",
        "test_set_path = root_dir+\"test_set.npy\"\n",
        "output_path = root_dir\n",
        "validator.validate_sanad_maten_lists(sanad_bigrams_path, sanad_unigrams_path,\n",
        "                                     maten_bigrams_path, maten_unigrams_path,\n",
        "                                     test_set_path, split_predictor = validator.predictor.PREDICTOR_BASELINE,\n",
        "                                     output_path=output_path,verbose=0,\n",
        "                                     )"
      ],
      "execution_count": 0,
      "outputs": []
    },
    {
      "cell_type": "code",
      "metadata": {
        "colab_type": "code",
        "id": "0zOdK4Dh7sLo",
        "colab": {}
      },
      "source": [
        "root_dir = \"/content/drive/My Drive/Colab Notebooks/NLP/ex8/\"\n",
        "sanad_bigrams_path = root_dir+\"sanad_bigrams.npy\"\n",
        "sanad_unigrams_path = root_dir+\"sanad_unigrams.npy\"\n",
        "maten_bigrams_path = root_dir+\"maten_bigrams.npy\"\n",
        "maten_unigrams_path = root_dir+\"maten_unigrams.npy\"\n",
        "test_set_path = root_dir+\"test_set.npy\"\n",
        "output_path = root_dir\n",
        "validator.validate_sanad_maten_lists(sanad_bigrams_path, sanad_unigrams_path,\n",
        "                                     maten_bigrams_path, maten_unigrams_path,\n",
        "                                     test_set_path, split_predictor = validator.predictor.PREDICTOR_INFORMATION_GAIN,\n",
        "                                     output_path=output_path,verbose=0,\n",
        "                                     )"
      ],
      "execution_count": 0,
      "outputs": []
    },
    {
      "cell_type": "markdown",
      "metadata": {
        "colab_type": "text",
        "id": "CbandcZk9qrA"
      },
      "source": [
        "#####EX9"
      ]
    },
    {
      "cell_type": "code",
      "metadata": {
        "colab_type": "code",
        "id": "Glazg59y9qrL",
        "colab": {}
      },
      "source": [
        "root_dir = \"/content/drive/My Drive/Colab Notebooks/NLP/ex9/\"\n",
        "sanad_bigrams_path = root_dir+\"sanad_bigrams.npy\"\n",
        "sanad_unigrams_path = root_dir+\"sanad_unigrams.npy\"\n",
        "maten_bigrams_path = root_dir+\"maten_bigrams.npy\"\n",
        "maten_unigrams_path = root_dir+\"maten_unigrams.npy\"\n",
        "test_set_path = root_dir+\"test_set.npy\"\n",
        "output_path = root_dir\n",
        "validator.validate_sanad_maten_lists(sanad_bigrams_path, sanad_unigrams_path,\n",
        "                                     maten_bigrams_path, maten_unigrams_path,\n",
        "                                     test_set_path, split_predictor = validator.predictor.PREDICTOR_BASELINE,\n",
        "                                     output_path=output_path,verbose=0,\n",
        "                                     )"
      ],
      "execution_count": 0,
      "outputs": []
    },
    {
      "cell_type": "code",
      "metadata": {
        "colab_type": "code",
        "id": "Z14JkVHo9qrU",
        "colab": {}
      },
      "source": [
        "root_dir = \"/content/drive/My Drive/Colab Notebooks/NLP/ex9/\"\n",
        "sanad_bigrams_path = root_dir+\"sanad_bigrams.npy\"\n",
        "sanad_unigrams_path = root_dir+\"sanad_unigrams.npy\"\n",
        "maten_bigrams_path = root_dir+\"maten_bigrams.npy\"\n",
        "maten_unigrams_path = root_dir+\"maten_unigrams.npy\"\n",
        "test_set_path = root_dir+\"test_set.npy\"\n",
        "output_path = root_dir\n",
        "validator.validate_sanad_maten_lists(sanad_bigrams_path, sanad_unigrams_path,\n",
        "                                     maten_bigrams_path, maten_unigrams_path,\n",
        "                                     test_set_path, split_predictor = validator.predictor.PREDICTOR_INFORMATION_GAIN,\n",
        "                                     output_path=output_path,verbose=0,\n",
        "                                     )"
      ],
      "execution_count": 0,
      "outputs": []
    },
    {
      "cell_type": "markdown",
      "metadata": {
        "colab_type": "text",
        "id": "Q73FWSiBHXiL"
      },
      "source": [
        "#####EX10"
      ]
    },
    {
      "cell_type": "code",
      "metadata": {
        "colab_type": "code",
        "id": "q0-6lGOaHXif",
        "colab": {}
      },
      "source": [
        "root_dir = \"/content/drive/My Drive/Colab Notebooks/NLP/ex10/\"\n",
        "sanad_bigrams_path = root_dir+\"sanad_bigrams.npy\"\n",
        "sanad_unigrams_path = root_dir+\"sanad_unigrams.npy\"\n",
        "maten_bigrams_path = root_dir+\"maten_bigrams.npy\"\n",
        "maten_unigrams_path = root_dir+\"maten_unigrams.npy\"\n",
        "test_set_path = root_dir+\"test_set.npy\"\n",
        "output_path = root_dir\n",
        "validator.validate_sanad_maten_lists(sanad_bigrams_path, sanad_unigrams_path,\n",
        "                                     maten_bigrams_path, maten_unigrams_path,\n",
        "                                     test_set_path, split_predictor = validator.predictor.PREDICTOR_BASELINE,\n",
        "                                     output_path=output_path,verbose=0,\n",
        "                                     )"
      ],
      "execution_count": 0,
      "outputs": []
    },
    {
      "cell_type": "code",
      "metadata": {
        "colab_type": "code",
        "id": "4QPJqpGmHXiq",
        "colab": {}
      },
      "source": [
        "root_dir = \"/content/drive/My Drive/Colab Notebooks/NLP/ex10/\"\n",
        "sanad_bigrams_path = root_dir+\"sanad_bigrams.npy\"\n",
        "sanad_unigrams_path = root_dir+\"sanad_unigrams.npy\"\n",
        "maten_bigrams_path = root_dir+\"maten_bigrams.npy\"\n",
        "maten_unigrams_path = root_dir+\"maten_unigrams.npy\"\n",
        "test_set_path = root_dir+\"test_set.npy\"\n",
        "output_path = root_dir\n",
        "validator.validate_sanad_maten_lists(sanad_bigrams_path, sanad_unigrams_path,\n",
        "                                     maten_bigrams_path, maten_unigrams_path,\n",
        "                                     test_set_path, split_predictor = validator.predictor.PREDICTOR_INFORMATION_GAIN,\n",
        "                                     output_path=output_path,verbose=0,\n",
        "                                     )"
      ],
      "execution_count": 0,
      "outputs": []
    },
    {
      "cell_type": "markdown",
      "metadata": {
        "colab_type": "text",
        "id": "pg1FX-wcJ7e4"
      },
      "source": [
        "#####EX11"
      ]
    },
    {
      "cell_type": "code",
      "metadata": {
        "colab_type": "code",
        "id": "X3CWSIHuJ7fM",
        "colab": {}
      },
      "source": [
        "root_dir = \"/content/drive/My Drive/Colab Notebooks/NLP/ex11/\"\n",
        "sanad_bigrams_path = root_dir+\"sanad_bigrams.npy\"\n",
        "sanad_unigrams_path = root_dir+\"sanad_unigrams.npy\"\n",
        "maten_bigrams_path = root_dir+\"maten_bigrams.npy\"\n",
        "maten_unigrams_path = root_dir+\"maten_unigrams.npy\"\n",
        "test_set_path = root_dir+\"test_set.npy\"\n",
        "output_path = root_dir\n",
        "validator.validate_sanad_maten_lists(sanad_bigrams_path, sanad_unigrams_path,\n",
        "                                     maten_bigrams_path, maten_unigrams_path,\n",
        "                                     test_set_path, split_predictor = validator.predictor.PREDICTOR_BASELINE,\n",
        "                                     output_path=output_path,verbose=0,\n",
        "                                     )"
      ],
      "execution_count": 0,
      "outputs": []
    },
    {
      "cell_type": "code",
      "metadata": {
        "colab_type": "code",
        "id": "iYQKD97aJ7fZ",
        "colab": {}
      },
      "source": [
        "root_dir = \"/content/drive/My Drive/Colab Notebooks/NLP/ex11/\"\n",
        "sanad_bigrams_path = root_dir+\"sanad_bigrams.npy\"\n",
        "sanad_unigrams_path = root_dir+\"sanad_unigrams.npy\"\n",
        "maten_bigrams_path = root_dir+\"maten_bigrams.npy\"\n",
        "maten_unigrams_path = root_dir+\"maten_unigrams.npy\"\n",
        "test_set_path = root_dir+\"test_set.npy\"\n",
        "output_path = root_dir\n",
        "validator.validate_sanad_maten_lists(sanad_bigrams_path, sanad_unigrams_path,\n",
        "                                     maten_bigrams_path, maten_unigrams_path,\n",
        "                                     test_set_path, split_predictor = validator.predictor.PREDICTOR_INFORMATION_GAIN,\n",
        "                                     output_path=output_path,verbose=0,\n",
        "                                     )"
      ],
      "execution_count": 0,
      "outputs": []
    },
    {
      "cell_type": "markdown",
      "metadata": {
        "colab_type": "text",
        "id": "gydNjJmSOV4e"
      },
      "source": [
        "#####EX12"
      ]
    },
    {
      "cell_type": "code",
      "metadata": {
        "colab_type": "code",
        "id": "tS9k_afwOV4l",
        "colab": {}
      },
      "source": [
        "root_dir = \"/content/drive/My Drive/Colab Notebooks/NLP/ex12/\"\n",
        "sanad_bigrams_path = root_dir+\"sanad_bigrams.npy\"\n",
        "sanad_unigrams_path = root_dir+\"sanad_unigrams.npy\"\n",
        "maten_bigrams_path = root_dir+\"maten_bigrams.npy\"\n",
        "maten_unigrams_path = root_dir+\"maten_unigrams.npy\"\n",
        "test_set_path = root_dir+\"test_set.npy\"\n",
        "output_path = root_dir\n",
        "validator.validate_sanad_maten_lists(sanad_bigrams_path, sanad_unigrams_path,\n",
        "                                     maten_bigrams_path, maten_unigrams_path,\n",
        "                                     test_set_path, split_predictor = validator.predictor.PREDICTOR_BASELINE,\n",
        "                                     output_path=output_path,verbose=0,\n",
        "                                     )"
      ],
      "execution_count": 0,
      "outputs": []
    },
    {
      "cell_type": "code",
      "metadata": {
        "colab_type": "code",
        "id": "-lApwLYBOV4u",
        "colab": {}
      },
      "source": [
        "root_dir = \"/content/drive/My Drive/Colab Notebooks/NLP/ex12/\"\n",
        "sanad_bigrams_path = root_dir+\"sanad_bigrams.npy\"\n",
        "sanad_unigrams_path = root_dir+\"sanad_unigrams.npy\"\n",
        "maten_bigrams_path = root_dir+\"maten_bigrams.npy\"\n",
        "maten_unigrams_path = root_dir+\"maten_unigrams.npy\"\n",
        "test_set_path = root_dir+\"test_set.npy\"\n",
        "output_path = root_dir\n",
        "validator.validate_sanad_maten_lists(sanad_bigrams_path, sanad_unigrams_path,\n",
        "                                     maten_bigrams_path, maten_unigrams_path,\n",
        "                                     test_set_path, split_predictor = validator.predictor.PREDICTOR_INFORMATION_GAIN,\n",
        "                                     output_path=output_path,verbose=0,\n",
        "                                     )"
      ],
      "execution_count": 0,
      "outputs": []
    },
    {
      "cell_type": "markdown",
      "metadata": {
        "colab_type": "text",
        "id": "pVydGOURUGaL"
      },
      "source": [
        "#####EX13"
      ]
    },
    {
      "cell_type": "code",
      "metadata": {
        "colab_type": "code",
        "id": "c4xvXPoXUGae",
        "colab": {}
      },
      "source": [
        "root_dir = \"/content/drive/My Drive/Colab Notebooks/NLP/ex13/\"\n",
        "sanad_bigrams_path = root_dir+\"sanad_bigrams.npy\"\n",
        "sanad_unigrams_path = root_dir+\"sanad_unigrams.npy\"\n",
        "maten_bigrams_path = root_dir+\"maten_bigrams.npy\"\n",
        "maten_unigrams_path = root_dir+\"maten_unigrams.npy\"\n",
        "test_set_path = root_dir+\"test_set.npy\"\n",
        "output_path = root_dir\n",
        "validator.validate_sanad_maten_lists(sanad_bigrams_path, sanad_unigrams_path,\n",
        "                                     maten_bigrams_path, maten_unigrams_path,\n",
        "                                     test_set_path, split_predictor = validator.predictor.PREDICTOR_BASELINE,\n",
        "                                     output_path=output_path,verbose=0,\n",
        "                                     )"
      ],
      "execution_count": 0,
      "outputs": []
    },
    {
      "cell_type": "code",
      "metadata": {
        "colab_type": "code",
        "id": "JV7r3rQ5UGav",
        "colab": {}
      },
      "source": [
        "root_dir = \"/content/drive/My Drive/Colab Notebooks/NLP/ex13/\"\n",
        "sanad_bigrams_path = root_dir+\"sanad_bigrams.npy\"\n",
        "sanad_unigrams_path = root_dir+\"sanad_unigrams.npy\"\n",
        "maten_bigrams_path = root_dir+\"maten_bigrams.npy\"\n",
        "maten_unigrams_path = root_dir+\"maten_unigrams.npy\"\n",
        "test_set_path = root_dir+\"test_set.npy\"\n",
        "output_path = root_dir\n",
        "validator.validate_sanad_maten_lists(sanad_bigrams_path, sanad_unigrams_path,\n",
        "                                     maten_bigrams_path, maten_unigrams_path,\n",
        "                                     test_set_path, split_predictor = validator.predictor.PREDICTOR_INFORMATION_GAIN,\n",
        "                                     output_path=output_path,verbose=0,\n",
        "                                     )"
      ],
      "execution_count": 0,
      "outputs": []
    },
    {
      "cell_type": "markdown",
      "metadata": {
        "colab_type": "text",
        "id": "CShwOtxWXBch"
      },
      "source": [
        "#####EX14"
      ]
    },
    {
      "cell_type": "code",
      "metadata": {
        "colab_type": "code",
        "id": "HfzPycCBXBc0",
        "colab": {}
      },
      "source": [
        "root_dir = \"/content/drive/My Drive/Colab Notebooks/NLP/ex14/\"\n",
        "sanad_bigrams_path = root_dir+\"sanad_bigrams.npy\"\n",
        "sanad_unigrams_path = root_dir+\"sanad_unigrams.npy\"\n",
        "maten_bigrams_path = root_dir+\"maten_bigrams.npy\"\n",
        "maten_unigrams_path = root_dir+\"maten_unigrams.npy\"\n",
        "test_set_path = root_dir+\"test_set.npy\"\n",
        "output_path = root_dir\n",
        "validator.validate_sanad_maten_lists(sanad_bigrams_path, sanad_unigrams_path,\n",
        "                                     maten_bigrams_path, maten_unigrams_path,\n",
        "                                     test_set_path, split_predictor = validator.predictor.PREDICTOR_BASELINE,\n",
        "                                     output_path=output_path,verbose=0,\n",
        "                                     )"
      ],
      "execution_count": 0,
      "outputs": []
    },
    {
      "cell_type": "code",
      "metadata": {
        "colab_type": "code",
        "id": "Ou-1Y0zFXBc_",
        "colab": {}
      },
      "source": [
        "root_dir = \"/content/drive/My Drive/Colab Notebooks/NLP/ex14/\"\n",
        "sanad_bigrams_path = root_dir+\"sanad_bigrams.npy\"\n",
        "sanad_unigrams_path = root_dir+\"sanad_unigrams.npy\"\n",
        "maten_bigrams_path = root_dir+\"maten_bigrams.npy\"\n",
        "maten_unigrams_path = root_dir+\"maten_unigrams.npy\"\n",
        "test_set_path = root_dir+\"test_set.npy\"\n",
        "output_path = root_dir\n",
        "validator.validate_sanad_maten_lists(sanad_bigrams_path, sanad_unigrams_path,\n",
        "                                     maten_bigrams_path, maten_unigrams_path,\n",
        "                                     test_set_path, split_predictor = validator.predictor.PREDICTOR_INFORMATION_GAIN,\n",
        "                                     output_path=output_path,verbose=0,\n",
        "                                     )"
      ],
      "execution_count": 0,
      "outputs": []
    },
    {
      "cell_type": "markdown",
      "metadata": {
        "colab_type": "text",
        "id": "Hmvb04i7beoT"
      },
      "source": [
        "#####EX15"
      ]
    },
    {
      "cell_type": "code",
      "metadata": {
        "colab_type": "code",
        "id": "1qHWGjd4beoY",
        "colab": {}
      },
      "source": [
        "root_dir = \"/content/drive/My Drive/Colab Notebooks/NLP/ex15/\"\n",
        "sanad_bigrams_path = root_dir+\"sanad_bigrams.npy\"\n",
        "sanad_unigrams_path = root_dir+\"sanad_unigrams.npy\"\n",
        "maten_bigrams_path = root_dir+\"maten_bigrams.npy\"\n",
        "maten_unigrams_path = root_dir+\"maten_unigrams.npy\"\n",
        "test_set_path = root_dir+\"test_set.npy\"\n",
        "output_path = root_dir\n",
        "validator.validate_sanad_maten_lists(sanad_bigrams_path, sanad_unigrams_path,\n",
        "                                     maten_bigrams_path, maten_unigrams_path,\n",
        "                                     test_set_path, split_predictor = validator.predictor.PREDICTOR_BASELINE,\n",
        "                                     output_path=output_path,verbose=0,\n",
        "                                     )"
      ],
      "execution_count": 0,
      "outputs": []
    },
    {
      "cell_type": "code",
      "metadata": {
        "colab_type": "code",
        "id": "6cGSLyJwbeol",
        "colab": {}
      },
      "source": [
        "root_dir = \"/content/drive/My Drive/Colab Notebooks/NLP/ex15/\"\n",
        "sanad_bigrams_path = root_dir+\"sanad_bigrams.npy\"\n",
        "sanad_unigrams_path = root_dir+\"sanad_unigrams.npy\"\n",
        "maten_bigrams_path = root_dir+\"maten_bigrams.npy\"\n",
        "maten_unigrams_path = root_dir+\"maten_unigrams.npy\"\n",
        "test_set_path = root_dir+\"test_set.npy\"\n",
        "output_path = root_dir\n",
        "validator.validate_sanad_maten_lists(sanad_bigrams_path, sanad_unigrams_path,\n",
        "                                     maten_bigrams_path, maten_unigrams_path,\n",
        "                                     test_set_path, split_predictor = validator.predictor.PREDICTOR_INFORMATION_GAIN,\n",
        "                                     output_path=output_path,verbose=0,\n",
        "                                     )"
      ],
      "execution_count": 0,
      "outputs": []
    },
    {
      "cell_type": "markdown",
      "metadata": {
        "colab_type": "text",
        "id": "DsofbD3zc--2"
      },
      "source": [
        "#####EX16"
      ]
    },
    {
      "cell_type": "code",
      "metadata": {
        "colab_type": "code",
        "id": "YTJUhot6c-_A",
        "colab": {}
      },
      "source": [
        "root_dir = \"/content/drive/My Drive/Colab Notebooks/NLP/ex16/\"\n",
        "sanad_bigrams_path = root_dir+\"sanad_bigrams.npy\"\n",
        "sanad_unigrams_path = root_dir+\"sanad_unigrams.npy\"\n",
        "maten_bigrams_path = root_dir+\"maten_bigrams.npy\"\n",
        "maten_unigrams_path = root_dir+\"maten_unigrams.npy\"\n",
        "test_set_path = root_dir+\"test_set.npy\"\n",
        "output_path = root_dir\n",
        "validator.validate_sanad_maten_lists(sanad_bigrams_path, sanad_unigrams_path,\n",
        "                                     maten_bigrams_path, maten_unigrams_path,\n",
        "                                     test_set_path, split_predictor = validator.predictor.PREDICTOR_BASELINE,\n",
        "                                     output_path=output_path,verbose=0,\n",
        "                                     )"
      ],
      "execution_count": 0,
      "outputs": []
    },
    {
      "cell_type": "code",
      "metadata": {
        "colab_type": "code",
        "id": "KSFQD0D_c-_L",
        "colab": {}
      },
      "source": [
        "root_dir = \"/content/drive/My Drive/Colab Notebooks/NLP/ex16/\"\n",
        "sanad_bigrams_path = root_dir+\"sanad_bigrams.npy\"\n",
        "sanad_unigrams_path = root_dir+\"sanad_unigrams.npy\"\n",
        "maten_bigrams_path = root_dir+\"maten_bigrams.npy\"\n",
        "maten_unigrams_path = root_dir+\"maten_unigrams.npy\"\n",
        "test_set_path = root_dir+\"test_set.npy\"\n",
        "output_path = root_dir\n",
        "validator.validate_sanad_maten_lists(sanad_bigrams_path, sanad_unigrams_path,\n",
        "                                     maten_bigrams_path, maten_unigrams_path,\n",
        "                                     test_set_path, split_predictor = validator.predictor.PREDICTOR_INFORMATION_GAIN,\n",
        "                                     output_path=output_path,verbose=0,\n",
        "                                     )"
      ],
      "execution_count": 0,
      "outputs": []
    },
    {
      "cell_type": "markdown",
      "metadata": {
        "colab_type": "text",
        "id": "gR4ktyGcf65o"
      },
      "source": [
        "#####EX17"
      ]
    },
    {
      "cell_type": "code",
      "metadata": {
        "colab_type": "code",
        "id": "-4CbaOgpf65v",
        "colab": {}
      },
      "source": [
        "root_dir = \"/content/drive/My Drive/Colab Notebooks/NLP/ex17/\"\n",
        "sanad_bigrams_path = root_dir+\"sanad_bigrams.npy\"\n",
        "sanad_unigrams_path = root_dir+\"sanad_unigrams.npy\"\n",
        "maten_bigrams_path = root_dir+\"maten_bigrams.npy\"\n",
        "maten_unigrams_path = root_dir+\"maten_unigrams.npy\"\n",
        "test_set_path = root_dir+\"test_set.npy\"\n",
        "output_path = root_dir\n",
        "validator.validate_sanad_maten_lists(sanad_bigrams_path, sanad_unigrams_path,\n",
        "                                     maten_bigrams_path, maten_unigrams_path,\n",
        "                                     test_set_path, split_predictor = validator.predictor.PREDICTOR_BASELINE,\n",
        "                                     output_path=output_path,verbose=0,\n",
        "                                     )"
      ],
      "execution_count": 0,
      "outputs": []
    },
    {
      "cell_type": "code",
      "metadata": {
        "colab_type": "code",
        "id": "KbzkXvJGf657",
        "colab": {}
      },
      "source": [
        "root_dir = \"/content/drive/My Drive/Colab Notebooks/NLP/ex17/\"\n",
        "sanad_bigrams_path = root_dir+\"sanad_bigrams.npy\"\n",
        "sanad_unigrams_path = root_dir+\"sanad_unigrams.npy\"\n",
        "maten_bigrams_path = root_dir+\"maten_bigrams.npy\"\n",
        "maten_unigrams_path = root_dir+\"maten_unigrams.npy\"\n",
        "test_set_path = root_dir+\"test_set.npy\"\n",
        "output_path = root_dir\n",
        "validator.validate_sanad_maten_lists(sanad_bigrams_path, sanad_unigrams_path,\n",
        "                                     maten_bigrams_path, maten_unigrams_path,\n",
        "                                     test_set_path, split_predictor = validator.predictor.PREDICTOR_INFORMATION_GAIN,\n",
        "                                     output_path=output_path,verbose=0,\n",
        "                                     )"
      ],
      "execution_count": 0,
      "outputs": []
    },
    {
      "cell_type": "markdown",
      "metadata": {
        "colab_type": "text",
        "id": "ERGwCtOzheRp"
      },
      "source": [
        "#####EX18"
      ]
    },
    {
      "cell_type": "code",
      "metadata": {
        "colab_type": "code",
        "id": "_DV99PoTheR9",
        "colab": {}
      },
      "source": [
        "root_dir = \"/content/drive/My Drive/Colab Notebooks/NLP/ex18/\"\n",
        "sanad_bigrams_path = root_dir+\"sanad_bigrams.npy\"\n",
        "sanad_unigrams_path = root_dir+\"sanad_unigrams.npy\"\n",
        "maten_bigrams_path = root_dir+\"maten_bigrams.npy\"\n",
        "maten_unigrams_path = root_dir+\"maten_unigrams.npy\"\n",
        "test_set_path = root_dir+\"test_set.npy\"\n",
        "output_path = root_dir\n",
        "validator.validate_sanad_maten_lists(sanad_bigrams_path, sanad_unigrams_path,\n",
        "                                     maten_bigrams_path, maten_unigrams_path,\n",
        "                                     test_set_path, split_predictor = validator.predictor.PREDICTOR_BASELINE,\n",
        "                                     output_path=output_path,verbose=0,\n",
        "                                     )"
      ],
      "execution_count": 0,
      "outputs": []
    },
    {
      "cell_type": "code",
      "metadata": {
        "colab_type": "code",
        "id": "UaVx9UWoheSI",
        "colab": {}
      },
      "source": [
        "root_dir = \"/content/drive/My Drive/Colab Notebooks/NLP/ex18/\"\n",
        "sanad_bigrams_path = root_dir+\"sanad_bigrams.npy\"\n",
        "sanad_unigrams_path = root_dir+\"sanad_unigrams.npy\"\n",
        "maten_bigrams_path = root_dir+\"maten_bigrams.npy\"\n",
        "maten_unigrams_path = root_dir+\"maten_unigrams.npy\"\n",
        "test_set_path = root_dir+\"test_set.npy\"\n",
        "output_path = root_dir\n",
        "validator.validate_sanad_maten_lists(sanad_bigrams_path, sanad_unigrams_path,\n",
        "                                     maten_bigrams_path, maten_unigrams_path,\n",
        "                                     test_set_path, split_predictor = validator.predictor.PREDICTOR_INFORMATION_GAIN,\n",
        "                                     output_path=output_path,verbose=0,\n",
        "                                     )"
      ],
      "execution_count": 0,
      "outputs": []
    },
    {
      "cell_type": "markdown",
      "metadata": {
        "colab_type": "text",
        "id": "Do_8h2ksi6IT"
      },
      "source": [
        "#####EX19"
      ]
    },
    {
      "cell_type": "code",
      "metadata": {
        "colab_type": "code",
        "id": "57IDd0wTi6IW",
        "colab": {}
      },
      "source": [
        "root_dir = \"/content/drive/My Drive/Colab Notebooks/NLP/ex19/\"\n",
        "sanad_bigrams_path = root_dir+\"sanad_bigrams.npy\"\n",
        "sanad_unigrams_path = root_dir+\"sanad_unigrams.npy\"\n",
        "maten_bigrams_path = root_dir+\"maten_bigrams.npy\"\n",
        "maten_unigrams_path = root_dir+\"maten_unigrams.npy\"\n",
        "test_set_path = root_dir+\"test_set.npy\"\n",
        "output_path = root_dir\n",
        "validator.validate_sanad_maten_lists(sanad_bigrams_path, sanad_unigrams_path,\n",
        "                                     maten_bigrams_path, maten_unigrams_path,\n",
        "                                     test_set_path, split_predictor = validator.predictor.PREDICTOR_BASELINE,\n",
        "                                     output_path=output_path,verbose=0,\n",
        "                                     )"
      ],
      "execution_count": 0,
      "outputs": []
    },
    {
      "cell_type": "code",
      "metadata": {
        "colab_type": "code",
        "id": "WO3bGa35i6Id",
        "colab": {}
      },
      "source": [
        "root_dir = \"/content/drive/My Drive/Colab Notebooks/NLP/ex19/\"\n",
        "sanad_bigrams_path = root_dir+\"sanad_bigrams.npy\"\n",
        "sanad_unigrams_path = root_dir+\"sanad_unigrams.npy\"\n",
        "maten_bigrams_path = root_dir+\"maten_bigrams.npy\"\n",
        "maten_unigrams_path = root_dir+\"maten_unigrams.npy\"\n",
        "test_set_path = root_dir+\"test_set.npy\"\n",
        "output_path = root_dir\n",
        "validator.validate_sanad_maten_lists(sanad_bigrams_path, sanad_unigrams_path,\n",
        "                                     maten_bigrams_path, maten_unigrams_path,\n",
        "                                     test_set_path, split_predictor = validator.predictor.PREDICTOR_INFORMATION_GAIN,\n",
        "                                     output_path=output_path,verbose=0,\n",
        "                                     )"
      ],
      "execution_count": 0,
      "outputs": []
    },
    {
      "cell_type": "markdown",
      "metadata": {
        "colab_type": "text",
        "id": "-APgo0eRLwJO"
      },
      "source": [
        "#####EX20"
      ]
    },
    {
      "cell_type": "code",
      "metadata": {
        "colab_type": "code",
        "id": "mH25inWQLwJh",
        "colab": {}
      },
      "source": [
        "root_dir = \"/content/drive/My Drive/Colab Notebooks/NLP/ex20/\"\n",
        "sanad_bigrams_path = root_dir+\"sanad_bigrams.npy\"\n",
        "sanad_unigrams_path = root_dir+\"sanad_unigrams.npy\"\n",
        "maten_bigrams_path = root_dir+\"maten_bigrams.npy\"\n",
        "maten_unigrams_path = root_dir+\"maten_unigrams.npy\"\n",
        "test_set_path = root_dir+\"test_set.npy\"\n",
        "output_path = root_dir\n",
        "validator.validate_sanad_maten_lists(sanad_bigrams_path, sanad_unigrams_path,\n",
        "                                     maten_bigrams_path, maten_unigrams_path,\n",
        "                                     test_set_path, split_predictor = validator.predictor.PREDICTOR_BASELINE,\n",
        "                                     output_path=output_path,verbose=0,\n",
        "                                     )"
      ],
      "execution_count": 0,
      "outputs": []
    },
    {
      "cell_type": "code",
      "metadata": {
        "colab_type": "code",
        "id": "gXczlHGMLwJs",
        "colab": {}
      },
      "source": [
        "root_dir = \"/content/drive/My Drive/Colab Notebooks/NLP/ex20/\"\n",
        "sanad_bigrams_path = root_dir+\"sanad_bigrams.npy\"\n",
        "sanad_unigrams_path = root_dir+\"sanad_unigrams.npy\"\n",
        "maten_bigrams_path = root_dir+\"maten_bigrams.npy\"\n",
        "maten_unigrams_path = root_dir+\"maten_unigrams.npy\"\n",
        "test_set_path = root_dir+\"test_set.npy\"\n",
        "output_path = root_dir\n",
        "validator.validate_sanad_maten_lists(sanad_bigrams_path, sanad_unigrams_path,\n",
        "                                     maten_bigrams_path, maten_unigrams_path,\n",
        "                                     test_set_path, split_predictor = validator.predictor.PREDICTOR_INFORMATION_GAIN,\n",
        "                                     output_path=output_path,verbose=0,\n",
        "                                     )"
      ],
      "execution_count": 0,
      "outputs": []
    },
    {
      "cell_type": "markdown",
      "metadata": {
        "colab_type": "text",
        "id": "pKKnvVaKsITb"
      },
      "source": [
        "#####EX21"
      ]
    },
    {
      "cell_type": "code",
      "metadata": {
        "colab_type": "code",
        "id": "rhZ6zRBjsITk",
        "colab": {}
      },
      "source": [
        "root_dir = \"/content/drive/My Drive/Colab Notebooks/NLP/ex21/\"\n",
        "sanad_bigrams_path = root_dir+\"sanad_bigrams.npy\"\n",
        "sanad_unigrams_path = root_dir+\"sanad_unigrams.npy\"\n",
        "maten_bigrams_path = root_dir+\"maten_bigrams.npy\"\n",
        "maten_unigrams_path = root_dir+\"maten_unigrams.npy\"\n",
        "test_set_path = root_dir+\"test_set.npy\"\n",
        "output_path = root_dir\n",
        "validator.validate_sanad_maten_lists(sanad_bigrams_path, sanad_unigrams_path,\n",
        "                                     maten_bigrams_path, maten_unigrams_path,\n",
        "                                     test_set_path, split_predictor = validator.predictor.PREDICTOR_BASELINE,\n",
        "                                     output_path=output_path,verbose=0,\n",
        "                                     )"
      ],
      "execution_count": 0,
      "outputs": []
    },
    {
      "cell_type": "code",
      "metadata": {
        "colab_type": "code",
        "id": "Q1UA-cf2sITu",
        "colab": {}
      },
      "source": [
        "root_dir = \"/content/drive/My Drive/Colab Notebooks/NLP/ex20/\"\n",
        "sanad_bigrams_path = root_dir+\"sanad_bigrams.npy\"\n",
        "sanad_unigrams_path = root_dir+\"sanad_unigrams.npy\"\n",
        "maten_bigrams_path = root_dir+\"maten_bigrams.npy\"\n",
        "maten_unigrams_path = root_dir+\"maten_unigrams.npy\"\n",
        "test_set_path = root_dir+\"test_set.npy\"\n",
        "output_path = root_dir\n",
        "validator.validate_sanad_maten_lists(sanad_bigrams_path, sanad_unigrams_path,\n",
        "                                     maten_bigrams_path, maten_unigrams_path,\n",
        "                                     test_set_path, split_predictor = validator.predictor.PREDICTOR_INFORMATION_GAIN,\n",
        "                                     output_path=output_path,verbose=0,\n",
        "                                     )"
      ],
      "execution_count": 0,
      "outputs": []
    },
    {
      "cell_type": "markdown",
      "metadata": {
        "colab_type": "text",
        "id": "It_i9juask3h"
      },
      "source": [
        "#####EX22"
      ]
    },
    {
      "cell_type": "code",
      "metadata": {
        "colab_type": "code",
        "id": "2Rs9b9qCspEw",
        "colab": {}
      },
      "source": [
        "root_dir = \"/content/drive/My Drive/Colab Notebooks/NLP/ex22/\"\n",
        "sanad_bigrams_path = root_dir+\"sanad_bigrams.npy\"\n",
        "sanad_unigrams_path = root_dir+\"sanad_unigrams.npy\"\n",
        "maten_bigrams_path = root_dir+\"maten_bigrams.npy\"\n",
        "maten_unigrams_path = root_dir+\"maten_unigrams.npy\"\n",
        "test_set_path = root_dir+\"test_set.npy\"\n",
        "output_path = root_dir\n",
        "validator.validate_sanad_maten_lists(sanad_bigrams_path, sanad_unigrams_path,\n",
        "                                     maten_bigrams_path, maten_unigrams_path,\n",
        "                                     test_set_path, split_predictor = validator.predictor.PREDICTOR_BASELINE,\n",
        "                                     output_path=output_path,verbose=0,\n",
        "                                     )"
      ],
      "execution_count": 0,
      "outputs": []
    },
    {
      "cell_type": "code",
      "metadata": {
        "colab_type": "code",
        "id": "tJ6uweVgsk3r",
        "colab": {}
      },
      "source": [
        "root_dir = \"/content/drive/My Drive/Colab Notebooks/NLP/ex22/\"\n",
        "sanad_bigrams_path = root_dir+\"sanad_bigrams.npy\"\n",
        "sanad_unigrams_path = root_dir+\"sanad_unigrams.npy\"\n",
        "maten_bigrams_path = root_dir+\"maten_bigrams.npy\"\n",
        "maten_unigrams_path = root_dir+\"maten_unigrams.npy\"\n",
        "test_set_path = root_dir+\"test_set.npy\"\n",
        "output_path = root_dir\n",
        "validator.validate_sanad_maten_lists(sanad_bigrams_path, sanad_unigrams_path,\n",
        "                                     maten_bigrams_path, maten_unigrams_path,\n",
        "                                     test_set_path, split_predictor = validator.predictor.PREDICTOR_INFORMATION_GAIN,\n",
        "                                     output_path=output_path,verbose=0,\n",
        "                                     )"
      ],
      "execution_count": 0,
      "outputs": []
    }
  ]
}