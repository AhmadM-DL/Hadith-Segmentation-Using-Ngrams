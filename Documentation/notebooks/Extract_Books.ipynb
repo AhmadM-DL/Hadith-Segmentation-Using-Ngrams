{
  "nbformat": 4,
  "nbformat_minor": 0,
  "metadata": {
    "colab": {
      "name": "Extract Books.ipynb",
      "provenance": [],
      "collapsed_sections": []
    },
    "kernelspec": {
      "name": "python3",
      "display_name": "Python 3"
    }
  },
  "cells": [
    {
      "cell_type": "code",
      "metadata": {
        "id": "cB1r7x-4CJcc",
        "colab_type": "code",
        "colab": {}
      },
      "source": [
        "!pip install pyarabic"
      ],
      "execution_count": 0,
      "outputs": []
    },
    {
      "cell_type": "code",
      "metadata": {
        "id": "B0vvuMJNCMIA",
        "colab_type": "code",
        "colab": {}
      },
      "source": [
        "import sys\n",
        "import importlib"
      ],
      "execution_count": 0,
      "outputs": []
    },
    {
      "cell_type": "code",
      "metadata": {
        "id": "7Q3dWJywCTiQ",
        "colab_type": "code",
        "colab": {}
      },
      "source": [
        "! rm -R /content/Hadith-Segmentation-Using-Ngrams/\n",
        "!git clone https://github.com/AhmadM-DL/Hadith-Segmentation-Using-Ngrams.git"
      ],
      "execution_count": 0,
      "outputs": []
    },
    {
      "cell_type": "code",
      "metadata": {
        "id": "lpG6KwaZCU75",
        "colab_type": "code",
        "colab": {}
      },
      "source": [
        "sys.path.append('/content/Hadith-Segmentation-Using-Ngrams/')"
      ],
      "execution_count": 0,
      "outputs": []
    },
    {
      "cell_type": "code",
      "metadata": {
        "id": "Gvur0KhYCWfh",
        "colab_type": "code",
        "outputId": "98237919-5afd-4233-97ca-9d7e4d343f32",
        "colab": {
          "base_uri": "https://localhost:8080/",
          "height": 34
        }
      },
      "source": [
        "import sunnah_com_books_extractor as book_extractor\n",
        "importlib.reload(book_extractor)"
      ],
      "execution_count": 0,
      "outputs": [
        {
          "output_type": "execute_result",
          "data": {
            "text/plain": [
              "<module 'sunnah_com_books_extractor' from '/content/Hadith-Segmentation-Using-Ngrams/sunnah_com_books_extractor.py'>"
            ]
          },
          "metadata": {
            "tags": []
          },
          "execution_count": 7
        }
      ]
    },
    {
      "cell_type": "code",
      "metadata": {
        "id": "cjT4OiIx_gnL",
        "colab_type": "code",
        "outputId": "54c8c49a-2299-4dad-8a3b-446b8bd039c0",
        "colab": {
          "base_uri": "https://localhost:8080/",
          "height": 121
        }
      },
      "source": [
        "from google.colab import drive\n",
        "drive.mount('/content/drive')"
      ],
      "execution_count": 0,
      "outputs": [
        {
          "output_type": "stream",
          "text": [
            "Go to this URL in a browser: https://accounts.google.com/o/oauth2/auth?client_id=947318989803-6bn6qk8qdgf4n4g3pfee6491hc0brc4i.apps.googleusercontent.com&redirect_uri=urn%3aietf%3awg%3aoauth%3a2.0%3aoob&response_type=code&scope=email%20https%3a%2f%2fwww.googleapis.com%2fauth%2fdocs.test%20https%3a%2f%2fwww.googleapis.com%2fauth%2fdrive%20https%3a%2f%2fwww.googleapis.com%2fauth%2fdrive.photos.readonly%20https%3a%2f%2fwww.googleapis.com%2fauth%2fpeopleapi.readonly\n",
            "\n",
            "Enter your authorization code:\n",
            "··········\n",
            "Mounted at /content/drive\n"
          ],
          "name": "stdout"
        }
      ]
    },
    {
      "cell_type": "markdown",
      "metadata": {
        "id": "5wzRnkF5Cojr",
        "colab_type": "text"
      },
      "source": [
        "### Extract Book"
      ]
    },
    {
      "cell_type": "code",
      "metadata": {
        "id": "cOMZUpvACqxV",
        "colab_type": "code",
        "colab": {}
      },
      "source": [
        "# book_uri = \"https://sunnah.com/bukhari\"\n",
        "# output_path = \"/content/drive/My Drive/Colab Notebooks/NLP/Books/\"\n",
        "# book_extractor.extract_book(book_uri, output_path)"
      ],
      "execution_count": 0,
      "outputs": []
    },
    {
      "cell_type": "code",
      "metadata": {
        "id": "R9NUSTXBJ0RE",
        "colab_type": "code",
        "colab": {}
      },
      "source": [
        "# book_uri = \"https://sunnah.com/muslim\"\n",
        "# output_path = \"/content/drive/My Drive/Colab Notebooks/NLP/Books/\"\n",
        "# book_extractor.extract_book(book_uri, output_path)"
      ],
      "execution_count": 0,
      "outputs": []
    },
    {
      "cell_type": "code",
      "metadata": {
        "id": "h0dMwC3gJ00h",
        "colab_type": "code",
        "colab": {}
      },
      "source": [
        "# book_uri = \"https://sunnah.com/nasai\"\n",
        "# output_path = \"/content/drive/My Drive/Colab Notebooks/NLP/Books/\"\n",
        "# book_extractor.extract_book(book_uri, output_path)"
      ],
      "execution_count": 0,
      "outputs": []
    },
    {
      "cell_type": "code",
      "metadata": {
        "id": "6mrxbAo6J1VR",
        "colab_type": "code",
        "colab": {}
      },
      "source": [
        "# book_uri = \"https://sunnah.com/abudawud\"\n",
        "# output_path = \"/content/drive/My Drive/Colab Notebooks/NLP/Books/\"\n",
        "# book_extractor.extract_book(book_uri, output_path)"
      ],
      "execution_count": 0,
      "outputs": []
    },
    {
      "cell_type": "code",
      "metadata": {
        "id": "NUKFaeB8J1wo",
        "colab_type": "code",
        "colab": {}
      },
      "source": [
        "# book_uri = \"https://sunnah.com/tirmidhi\"\n",
        "# output_path = \"/content/drive/My Drive/Colab Notebooks/NLP/Books/\"\n",
        "# book_extractor.extract_book(book_uri, output_path)"
      ],
      "execution_count": 0,
      "outputs": []
    },
    {
      "cell_type": "code",
      "metadata": {
        "id": "E0dAZ9kQJ6Wy",
        "colab_type": "code",
        "colab": {}
      },
      "source": [
        "# book_uri = \"https://sunnah.com/malik\"\n",
        "# output_path = \"/content/drive/My Drive/Colab Notebooks/NLP/Books/\"\n",
        "# book_extractor.extract_book(book_uri, output_path)"
      ],
      "execution_count": 0,
      "outputs": []
    },
    {
      "cell_type": "code",
      "metadata": {
        "id": "n_y7VajuWXjo",
        "colab_type": "code",
        "colab": {}
      },
      "source": [
        "# book_uri = \"https://sunnah.com/riyadussaliheen\"\n",
        "# output_path = \"/content/drive/My Drive/Colab Notebooks/NLP/Books/\"\n",
        "# book_extractor.extract_book(book_uri, output_path)"
      ],
      "execution_count": 0,
      "outputs": []
    },
    {
      "cell_type": "code",
      "metadata": {
        "id": "adBpfxQtWduE",
        "colab_type": "code",
        "colab": {}
      },
      "source": [
        "# book_uri = \"https://sunnah.com/ibnmajah\"\n",
        "# output_path = \"/content/drive/My Drive/Colab Notebooks/NLP/Books/\"\n",
        "# book_extractor.extract_book(book_uri, output_path)"
      ],
      "execution_count": 0,
      "outputs": []
    },
    {
      "cell_type": "markdown",
      "metadata": {
        "id": "tDA033Eh312U",
        "colab_type": "text"
      },
      "source": [
        "# Reading Narrator"
      ]
    },
    {
      "cell_type": "code",
      "metadata": {
        "id": "0x7y30Na34Jf",
        "colab_type": "code",
        "colab": {}
      },
      "source": [
        "narrators_names_file = open('/content/drive/My Drive/Colab Notebooks/NLP/e_narrators.txt', 'r')\n",
        "narrators_names = narrators_names_file.read().split(\"\\n\")"
      ],
      "execution_count": 0,
      "outputs": []
    },
    {
      "cell_type": "code",
      "metadata": {
        "id": "AFgUq1Q74Ary",
        "colab_type": "code",
        "colab": {}
      },
      "source": [
        "def annotate_names(sanad, narrators_names):\n",
        "  sanad_words = sanad.replace(\"،\",\"\").replace(\".\",\"\").replace(\":\",\"\").replace(\"؟\",\"\").replace(\"؛\",\"\").replace(\"\\u200f\",\"\").split(\" \")\n",
        "  for i,word in enumerate(sanad_words):\n",
        "    word = araby.strip_tashkeel(word)\n",
        "    if word in narrators_names:\n",
        "      if(not(word==\"عن\" or word==\"بن\" or word==\"الله\")):\n",
        "        sanad_words[i] = \"*\"+sanad_words[i]+\"*\"\n",
        "  return \" \".join(sanad_words)"
      ],
      "execution_count": 0,
      "outputs": []
    },
    {
      "cell_type": "code",
      "metadata": {
        "id": "deY41ho28_0U",
        "colab_type": "code",
        "colab": {}
      },
      "source": [
        "hadith = sahih_muslim['Volumes'][4][\"Chapters\"][1][\"Hadiths\"][0]\n",
        "#annotate_names(hadith[\"PreSanad\"],narrators_names)"
      ],
      "execution_count": 0,
      "outputs": []
    },
    {
      "cell_type": "code",
      "metadata": {
        "id": "v797eU0NGoj9",
        "colab_type": "code",
        "colab": {}
      },
      "source": [
        "presanad = hadith[\"PreSanad\"].replace('\\n','').replace('\\t','').replace('\\u200f','')\n",
        "body = hadith[\"Body\"].replace('\\n','').replace('\\t','').replace('\\u200f','')\n",
        "postsanad = hadith[\"PostSanad\"].replace('\\n','').replace('\\t','').replace('\\u200f','')\n",
        "hadith_str = presanad+body+postsanad+\"\\n\""
      ],
      "execution_count": 0,
      "outputs": []
    }
  ]
}