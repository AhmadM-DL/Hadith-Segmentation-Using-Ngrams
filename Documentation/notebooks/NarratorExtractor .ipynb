{
  "nbformat": 4,
  "nbformat_minor": 0,
  "metadata": {
    "colab": {
      "name": "NarratorExtractor.ipynb",
      "provenance": [],
      "collapsed_sections": []
    },
    "kernelspec": {
      "name": "python3",
      "display_name": "Python 3"
    }
  },
  "cells": [
    {
      "cell_type": "code",
      "metadata": {
        "id": "msFV447m_a9d",
        "colab_type": "code",
        "colab": {}
      },
      "source": [
        "!pip install pyarabic"
      ],
      "execution_count": 0,
      "outputs": []
    },
    {
      "cell_type": "code",
      "metadata": {
        "id": "W9wOWmCW_dAD",
        "colab_type": "code",
        "colab": {}
      },
      "source": [
        "import sys\n",
        "import importlib\n",
        "import numpy as np"
      ],
      "execution_count": 0,
      "outputs": []
    },
    {
      "cell_type": "code",
      "metadata": {
        "id": "eCrs9Dvi_e-a",
        "colab_type": "code",
        "outputId": "85171372-7092-4cca-f81d-99e54d240ea4",
        "colab": {
          "base_uri": "https://localhost:8080/",
          "height": 151
        }
      },
      "source": [
        "! rm -R /content/Hadith-Segmentation-Using-Ngrams/\n",
        "!git clone https://github.com/AhmadM-DL/Hadith-Segmentation-Using-Ngrams.git"
      ],
      "execution_count": 0,
      "outputs": [
        {
          "output_type": "stream",
          "text": [
            "rm: cannot remove '/content/Hadith-Segmentation-Using-Ngrams/': No such file or directory\n",
            "Cloning into 'Hadith-Segmentation-Using-Ngrams'...\n",
            "remote: Enumerating objects: 222, done.\u001b[K\n",
            "remote: Counting objects: 100% (222/222), done.\u001b[K\n",
            "remote: Compressing objects: 100% (146/146), done.\u001b[K\n",
            "remote: Total 222 (delta 130), reused 156 (delta 68), pack-reused 0\u001b[K\n",
            "Receiving objects: 100% (222/222), 6.88 MiB | 3.55 MiB/s, done.\n",
            "Resolving deltas: 100% (130/130), done.\n"
          ],
          "name": "stdout"
        }
      ]
    },
    {
      "cell_type": "code",
      "metadata": {
        "id": "WetciNij_hqT",
        "colab_type": "code",
        "colab": {}
      },
      "source": [
        "sys.path.append('/content/Hadith-Segmentation-Using-Ngrams/')"
      ],
      "execution_count": 0,
      "outputs": []
    },
    {
      "cell_type": "code",
      "metadata": {
        "id": "MTjDt2Vn_lRT",
        "colab_type": "code",
        "colab": {}
      },
      "source": [
        "import sanad_maten_ngrams_extractor as extractor\n",
        "import sunnah_com_books_extractor as book_extractor\n",
        "importlib.reload(book_extractor)\n",
        "importlib.reload(extractor)"
      ],
      "execution_count": 0,
      "outputs": []
    },
    {
      "cell_type": "code",
      "metadata": {
        "id": "iugeGgOV_lii",
        "colab_type": "code",
        "colab": {}
      },
      "source": [
        "from google.colab import drive\n",
        "drive.mount('/content/drive')"
      ],
      "execution_count": 0,
      "outputs": []
    },
    {
      "cell_type": "markdown",
      "metadata": {
        "id": "SV5oqhn3_5KQ",
        "colab_type": "text"
      },
      "source": [
        "### Generate Sanad/Maten Ngrams Lists + Test Sets"
      ]
    },
    {
      "cell_type": "code",
      "metadata": {
        "id": "zWS-jaPTAiX-",
        "colab_type": "code",
        "colab": {}
      },
      "source": [
        "# np.random.seed(33)\n",
        "books_paths = [\"/content/drive/My Drive/Colab Notebooks/NLP/Books/Jami` at-Tirmidhi.json\",\n",
        "               \"/content/drive/My Drive/Colab Notebooks/NLP/Books/Sahih Muslim.json\",\n",
        "               \"/content/drive/My Drive/Colab Notebooks/NLP/Books/Sahih al-Bukhari.json\",\n",
        "               \"/content/drive/My Drive/Colab Notebooks/NLP/Books/Sunan Abi Dawud.json\",\n",
        "               \"/content/drive/My Drive/Colab Notebooks/NLP/Books/Sunan an-Nasa'i.json\",\n",
        "               \"/content/drive/My Drive/Colab Notebooks/NLP/Books/Riyad as-Salihin.json\",\n",
        "               \"/content/drive/My Drive/Colab Notebooks/NLP/Books/Sunan Ibn Majah.json\",\n",
        "               \"/content/drive/My Drive/Colab Notebooks/NLP/Books/Muwatta Malik.json\",\n",
        "               ]\n",
        "output_path = \"/content/drive/My Drive/Colab Notebooks/NLP/ex22\"\n",
        "extractor.extract_sanad_maten_ngrams(books_paths, output_path,\n",
        "                                     test_size_percent=0.3,\n",
        "                                     top_frequent_percent=15,\n",
        "                                     remove_stop_words=0,\n",
        "                                     )\n",
        "\n",
        "#notes = open(output_path+\"/notes.txt\",\"w\")\n",
        "#notes.write(\"* In this experiment we added more books and removed stop words\")\n"
      ],
      "execution_count": 0,
      "outputs": []
    }
  ]
}